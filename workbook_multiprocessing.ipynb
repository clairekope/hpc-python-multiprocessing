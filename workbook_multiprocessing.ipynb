{
 "cells": [
  {
   "cell_type": "markdown",
   "metadata": {},
   "source": [
    "# Multiprocessing!"
   ]
  },
  {
   "cell_type": "markdown",
   "metadata": {},
   "source": [
    "## Process Investigation\n",
    "\n",
    "In this first exercise, we'll play with `multiprocessing`'s `Pool.map()` to see how it functions. \n",
    "\n",
    "First, we create an instance of the `Pool` object and define the number of processes we want to use.\n",
    "It's best practice to explicitly set this number. By default, `Pool` will set the number of processes\n",
    "to the number of available cores. On a shared system like the HPCC, this can easily mean your program\n",
    "will interfere with other users! We can use the context manager keyword `with` to ensure our processes\n",
    "are properly ended after use.\n",
    "\n",
    "The `Pool.map()` method applies a function to an iterable object. For this example, our function\n",
    "returns some identifying information about the process running it such as its process ID and\n",
    "name. The process ID is how the operating system identifies our process, while the name is internal\n",
    "to Python. Our function will also return the data that was handed to the process, so we can see how `map()`\n",
    "divides the work.\n",
    "\n",
    "Run the following code block and then answer the exercises."
   ]
  },
  {
   "cell_type": "code",
   "execution_count": 1,
   "metadata": {},
   "outputs": [],
   "source": [
    "import multiprocessing\n",
    "\n",
    "def print_info(data):\n",
    "    \n",
    "    this_process = multiprocessing.current_process()\n",
    "    \n",
    "    info = {\"proc_id\" : this_process.pid,\n",
    "            \"proc_name\" : this_process.name,\n",
    "            \"proc_data\" : data}\n",
    "    \n",
    "    return info\n",
    "\n",
    "with multiprocessing.Pool(processes = 4) as p:\n",
    "    # Pool.map accepts a function to apply\n",
    "    # and an iterable object of data to share\n",
    "    all_info = p.map(func = print_info, iterable = range(10))"
   ]
  },
  {
   "cell_type": "markdown",
   "metadata": {},
   "source": [
    "---\n",
    "### Exercises\n",
    "\n",
    "1. What kind of object is `all_info`? That is, how does `Pool.map()` collect the values returned by each process?"
   ]
  },
  {
   "cell_type": "markdown",
   "metadata": {},
   "source": [
    "*Answer here*"
   ]
  },
  {
   "cell_type": "markdown",
   "metadata": {},
   "source": [
    "2. How many distinct processes are there in `all_info`? Does this align with expectations?"
   ]
  },
  {
   "cell_type": "markdown",
   "metadata": {},
   "source": [
    "*Answer here*"
   ]
  },
  {
   "cell_type": "markdown",
   "metadata": {},
   "source": [
    "3. How is the data distributed? Does each processes receive their allocated data all at once (as e.g. a list) or one at a time? Does each process have an equal amount of data?"
   ]
  },
  {
   "cell_type": "markdown",
   "metadata": {},
   "source": [
    "*Answer here*"
   ]
  },
  {
   "cell_type": "markdown",
   "metadata": {},
   "source": [
    "---\n",
    "## Implementing Pool\n",
    "\n",
    "In order to use `Pool.map()` we need to do two things:\n",
    "\n",
    "1. Identify the set of objects we wish to distribute\n",
    "2. Encapsulate our desired operation in a function\n",
    "\n",
    "The set of objects we are distributing to each process can be very concrete (e.g., multiple files with data that needs processing) or very abstract. For the following walkthrough, we'll be distributing something more abstract - runs of a Monte Carlo algorithm. Broadly speaking, Monte Carlo algorithms rely on random sampling to generate a result. We'll be using a Monte Carlo method to approximate the value of $\\pi$.\n",
    "\n",
    "### About the Algorithm\n",
    "\n",
    "Imagine we have a square with sides of length $2r$. Inside this square we can draw a circle with radius $r$. Since the area of the square is $(2r)^2$ and the area of the circle is $\\pi r^2$, the ratio of the two gives us $\\pi$:\n",
    "\n",
    "$$\n",
    "\\frac{Area\\ of\\ Circle}{Area\\ of\\ Square} = \\frac{\\pi r^2}{4r^2} = \\frac{\\pi}{4}\n",
    "$$\n",
    "\n",
    "We can estimate the area of these two shapes by randomly selecting points, say within $-1 \\le x \\le 1$ and $-1 \\le y \\le 1$. By construction, all of the points will fall inside a square with $r=1$, so the area of the square is approximately the total number of points we have sampled. Then, we can count the number of points that fall inside the circle $x^2 + y^2 \\le 1$. This number is approximately the area of the circle. Therefore,\n",
    "\n",
    "$$\n",
    "\\frac{Number\\ of\\ Points\\ in\\ Circle}{Total\\ Number\\ of\\ Points} \\approx \\frac{\\pi}{4}\n",
    "$$\n",
    "\n",
    "An example of this procedure is shown below [[source](https://miro.medium.com/v2/resize:fit:960/1*N8AWxYj3s2WrNrddinkcvQ.png)]. Points inside the circle are colored red, while points outside the circle (but still inside the square) are dark blue.\n",
    "\n",
    "<div>\n",
    "<img src=\"monte_carlo_pi.png\" alt=\"Demonstration of the Monte Carlo method for estimating pi\" width=\"70%\">\n",
    "</div>\n",
    "\n",
    "To achieve a more accurate estimate of $\\pi$, we need to increase the number of points we sample. One tweak we can make to improve the efficiency of our sampling is to **only sample the upper right quadrant** ($0 \\le x \\le 1$ and $0 \\le y \\le 1$). The math to approximate $\\pi$ remains the same, but our random points now more efficiently cover the area of the quadrant.\n",
    "\n",
    "It is this variation that is implemented below. The following exercises will walk you through the process of adapting this code for use with `Pool.map()`. Each process will run its own Monte Carlo estimate, and the results can be combined as\n",
    "\n",
    "$$\n",
    "\\pi = 4 \\times \\frac{\\sum_{N_{procs}} Number\\ of\\ Points\\ in\\ Circle}{\\sum_{N_{procs}} Total\\ Number\\ of\\ Points}\n",
    "$$"
   ]
  },
  {
   "cell_type": "code",
   "execution_count": 3,
   "metadata": {},
   "outputs": [
    {
     "name": "stdout",
     "output_type": "stream",
     "text": [
      "With 1000000 samples, pi is 3.14092\n"
     ]
    }
   ],
   "source": [
    "import numpy as np\n",
    "\n",
    "n_samples = int(1e6) # \"e\" notation defaults to float\n",
    "\n",
    "# Newer version of NumPy recommend using a Generator object\n",
    "# See https://numpy.org/doc/stable/reference/random/index.html#random-quick-start\n",
    "rng = np.random.default_rng() # uses current CPU clock time as seed\n",
    "x = rng.uniform(0, 1, n_samples)\n",
    "y = rng.uniform(0, 1, n_samples)\n",
    "inside_circle = (x**2 + y**2) <= 1 # return array of True and False\n",
    "n_inside_circle = np.sum(inside_circle) # count all the Trues (aka 1s)\n",
    "\n",
    "pi_estimate = 4 * n_inside_circle/n_samples\n",
    "print(f\"With {n_samples} samples, pi is {pi_estimate}\")"
   ]
  },
  {
   "cell_type": "markdown",
   "metadata": {},
   "source": [
    "---\n",
    "### Exercises\n",
    "\n",
    "1. First, convert the above algorithm into a function called `sample_quarter_circle`. It should accept a number of samples as input, and return the number of samples inside the (quarter) circle. Test that your function can approximate pi.\n",
    "\n",
    "Note: Why not return the estimate of pi? It is easier take the ratio *after* combining the counts from each Monte Carlo run."
   ]
  },
  {
   "cell_type": "code",
   "execution_count": null,
   "metadata": {},
   "outputs": [],
   "source": []
  },
  {
   "cell_type": "markdown",
   "metadata": {},
   "source": [
    "2. `Pool.map()` requires two arguments: `func` and `iterable`. Your function `sample_quarter_circle` fulfills the `func` requirement. Each process will be given an item from `iterable` and will apply `func` to that item. For simplicity, `iterable` can be a Python list. This list should then fulfill the following requirements:\n",
    "\n",
    "    a. Each element in the list must be a reasonable argument for `sample_quarter_circle`\n",
    "    \n",
    "    b. We only need to run the Monte Carlo once per process, so the length of the list should match the number of processes. "
   ]
  },
  {
   "cell_type": "markdown",
   "metadata": {},
   "source": []
  }
 ],
 "metadata": {
  "kernelspec": {
   "display_name": "hpc-python",
   "language": "python",
   "name": "python3"
  },
  "language_info": {
   "codemirror_mode": {
    "name": "ipython",
    "version": 3
   },
   "file_extension": ".py",
   "mimetype": "text/x-python",
   "name": "python",
   "nbconvert_exporter": "python",
   "pygments_lexer": "ipython3",
   "version": "3.11.5"
  },
  "orig_nbformat": 4
 },
 "nbformat": 4,
 "nbformat_minor": 2
}
